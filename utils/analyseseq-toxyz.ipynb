{
 "cells": [
  {
   "cell_type": "code",
   "execution_count": 11,
   "metadata": {},
   "outputs": [],
   "source": [
    "import numpy as np\n",
    "import os\n",
    "seq_dim = (10,10,5)"
   ]
  },
  {
   "cell_type": "code",
   "execution_count": 12,
   "metadata": {},
   "outputs": [
    {
     "name": "stdout",
     "output_type": "stream",
     "text": [
      "(400, 10, 10, 5)\n"
     ]
    }
   ],
   "source": [
    "# model_dir = \"logs-gaussian/CNNhiddendim64\"\n",
    "model_dir = \"logs-dir/testloss3_CNN64\"\n",
    "# work_dir = os.path.join(model_dir, f\"val_time0_scale_T0overTk/epoch{10098}\")\n",
    "work_dir = os.path.join(model_dir, f\"val_baseline/epoch{10098}\")\n",
    "seq = np.load(os.path.join(work_dir, \"seq_val_step0.npy\"))\n",
    "print(seq.shape)"
   ]
  },
  {
   "cell_type": "code",
   "execution_count": 13,
   "metadata": {},
   "outputs": [
    {
     "name": "stdout",
     "output_type": "stream",
     "text": [
      "(400, 2, 10, 10, 5)\n"
     ]
    }
   ],
   "source": [
    "logits = np.load(os.path.join(work_dir, \"logits_val_step0.npy\"))\n",
    "print(logits.shape)"
   ]
  },
  {
   "cell_type": "code",
   "execution_count": 14,
   "metadata": {},
   "outputs": [],
   "source": [
    "import os\n",
    "from ase import Atoms\n",
    "from ase.io import write\n",
    "from copy import deepcopy"
   ]
  },
  {
   "cell_type": "code",
   "execution_count": 15,
   "metadata": {},
   "outputs": [],
   "source": [
    "elems = [1,2]\n",
    "nvars = [500]\n",
    "L = nvars[0]\n",
    "channel = len(elems)\n",
    "B = seq.shape[0]"
   ]
  },
  {
   "cell_type": "code",
   "execution_count": 16,
   "metadata": {},
   "outputs": [
    {
     "name": "stdout",
     "output_type": "stream",
     "text": [
      "(2475, 2, 500) (2475, 500)\n"
     ]
    }
   ],
   "source": [
    "\n",
    "buffer_dir = \"data/Al-Cu\"\n",
    "cell = np.load(os.path.join(buffer_dir, \"buffer_cell.npy\")).reshape(-1,3,3)[0]\n",
    "_coord = np.load(os.path.join(buffer_dir, \"buffer_coord.npy\"))\n",
    "coord = np.transpose(_coord.reshape(-1,3, nvars[0]), (0,2,1))[0]\n",
    "logits_buffer = np.load(os.path.join(buffer_dir, \"buffer_atypes.npy\")).reshape(-1,channel,nvars[0])\n",
    "seq_buffer = np.argmax(logits_buffer, axis=1)\n",
    "print(logits_buffer.shape, seq_buffer.shape)"
   ]
  },
  {
   "cell_type": "code",
   "execution_count": 17,
   "metadata": {},
   "outputs": [],
   "source": [
    "def remove_element(atoms, element):\n",
    "    \"\"\" \n",
    "    Remove atoms of a specific element from the Atoms object.\n",
    "    \"\"\"\n",
    "    # atomic_numbers = atoms.get_atomic_numbers()\n",
    "    # new_atomic_numbers = [13 if i == 2 else 29 for i in atomic_numbers]\n",
    "    # atoms.set_atomic_numbers(new_atomic_numbers)\n",
    "    indices_to_remove = [i for i, n in enumerate(atoms.get_atomic_numbers()) if n == element]\n",
    "    del atoms[indices_to_remove]"
   ]
  },
  {
   "cell_type": "code",
   "execution_count": 18,
   "metadata": {},
   "outputs": [],
   "source": [
    "atype_map = {0: \"Al\", 1: \"Cu\"}\n",
    "seq = seq.reshape(-1,L)\n",
    "B = len(seq)\n",
    "anames = [[atype_map[seq[j][i]] for i in range(L)] for j in range(B)]\n",
    "xyz_file = os.path.join(work_dir, \"val-Cu.xyz\")\n",
    "if os.path.exists(xyz_file): os.remove(xyz_file)\n",
    "for i in range(B):\n",
    "    atoms = deepcopy(Atoms(anames[i], positions=coord, cell=cell, pbc=True))\n",
    "    remove_element(atoms, 13)\n",
    "    write(xyz_file, atoms, append=True)\n"
   ]
  }
 ],
 "metadata": {
  "kernelspec": {
   "display_name": "seq",
   "language": "python",
   "name": "python3"
  },
  "language_info": {
   "codemirror_mode": {
    "name": "ipython",
    "version": 3
   },
   "file_extension": ".py",
   "mimetype": "text/x-python",
   "name": "python",
   "nbconvert_exporter": "python",
   "pygments_lexer": "ipython3",
   "version": "3.9.19"
  }
 },
 "nbformat": 4,
 "nbformat_minor": 2
}
